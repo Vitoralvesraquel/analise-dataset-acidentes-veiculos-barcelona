{
 "cells": [
  {
   "cell_type": "code",
   "execution_count": null,
   "metadata": {
    "_cell_guid": "b1076dfc-b9ad-4769-8c92-a6c4dae69d19",
    "_uuid": "8f2839f25d086af736a60e9eeb907d3b93b6e0e5",
    "execution": {
     "iopub.execute_input": "2021-11-17T20:20:15.225405Z",
     "iopub.status.busy": "2021-11-17T20:20:15.224272Z",
     "iopub.status.idle": "2021-11-17T20:20:15.318434Z",
     "shell.execute_reply": "2021-11-17T20:20:15.316292Z",
     "shell.execute_reply.started": "2021-11-17T20:20:15.225234Z"
    }
   },
   "outputs": [],
   "source": [
    "import pandas as pd\n",
    "import numpy as np\n",
    "import matplotlib.pyplot as plt\n",
    "import plotly\n",
    "import chart_studio.plotly as py\n",
    "from plotly.offline import init_notebook_mode, iplot\n",
    "init_notebook_mode(connected=True)\n",
    "import plotly.graph_objs as go\n",
    "import plotly.offline as offline\n",
    "offline.init_notebook_mode()\n",
    "import folium\n",
    "from folium import plugins\n",
    "from folium.plugins import HeatMap\n",
    "import os\n",
    "from operator import itemgetter\n",
    "import seaborn as sns"
   ]
  },
  {
   "cell_type": "code",
   "execution_count": null,
   "metadata": {},
   "outputs": [],
   "source": [
    "for dirname, _, filenames in os.walk('../input'):\n",
    "    for filename in filenames:\n",
    "        print(os.path.join(dirname, filename))"
   ]
  },
  {
   "cell_type": "code",
   "execution_count": null,
   "metadata": {},
   "outputs": [],
   "source": [
    "df_accidents_vehicles_bcn2010 = pd.read_csv('../input/vehicles-accidents-barcelona/2010-accidents-vehicles-bcn.csv', encoding='latin-1')\n",
    "df_accidents_vehicles_bcn2011 = pd.read_csv('../input/vehicles-accidents-barcelona/2011-accidents-vehicles-bcn.csv', encoding='latin-1')\n",
    "df_accidents_vehicles_bcn2012 = pd.read_csv('../input/vehicles-accidents-barcelona/2012-accidents-vehicles-bcn.csv', encoding='latin-1')\n",
    "df_accidents_vehicles_bcn2013 = pd.read_csv('../input/vehicles-accidents-barcelona/2013-accidents-vehicles-bcn.csv', encoding='latin-1')\n",
    "df_accidents_vehicles_bcn2014 = pd.read_csv('../input/vehicles-accidents-barcelona/2014-accidents-vehicles-bcn.csv', encoding='latin-1')\n",
    "df_accidents_vehicles_bcn2015 = pd.read_csv('../input/vehicles-accidents-barcelona/2015-accidents-vehicles-bcn.csv', encoding='latin-1')\n",
    "df_accidents_vehicles_bcn2016 = pd.read_csv('../input/vehicles-accidents-barcelona/2016-accidents-vehicles-bcn.csv')\n",
    "df_accidents_vehicles_bcn2017 = pd.read_csv('../input/vehicles-accidents-barcelona/2017-accidents-vehicles-bcn.csv')\n",
    "df_accidents_vehicles_bcn2018 = pd.read_csv('../input/vehicles-accidents-barcelona/2018-accidents-vehicles-bcn.csv')\n",
    "df_accidents_vehicles_bcn2019 = pd.read_csv('../input/vehicles-accidents-barcelona/2019-accidents-vehicles-bcn.csv')\n",
    "df_accidents_vehicles_bcn2020 = pd.read_csv('../input/vehicles-accidents-barcelona/2020-accidents-vehicles-bcn.csv')"
   ]
  },
  {
   "cell_type": "code",
   "execution_count": null,
   "metadata": {},
   "outputs": [],
   "source": [
    "df_accidents_vehicles_bcn2020.head()"
   ]
  },
  {
   "cell_type": "code",
   "execution_count": null,
   "metadata": {},
   "outputs": [],
   "source": [
    "df_accidents_vehicles_bcn2019.head()"
   ]
  },
  {
   "cell_type": "code",
   "execution_count": null,
   "metadata": {},
   "outputs": [],
   "source": [
    "## Total accidents per year"
   ]
  },
  {
   "cell_type": "code",
   "execution_count": null,
   "metadata": {},
   "outputs": [],
   "source": [
    "totAccidents2010 = len(df_accidents_vehicles_bcn2010)\n",
    "print(f\"Total 2010: {totAccidents2010}\")\n",
    "\n",
    "totAccidents2011 = len(df_accidents_vehicles_bcn2011)\n",
    "print(f\"Total 2011: {totAccidents2011}\")\n",
    "\n",
    "totAccidents2012 = len(df_accidents_vehicles_bcn2012)\n",
    "print(f\"Total 2012: {totAccidents2012}\")\n",
    "\n",
    "totAccidents2013 = len(df_accidents_vehicles_bcn2013)\n",
    "print(f\"Total 2013: {totAccidents2013}\")\n",
    "\n",
    "totAccidents2014 = len(df_accidents_vehicles_bcn2014)\n",
    "print(f\"Total 2014: {totAccidents2014}\")\n",
    "\n",
    "totAccidents2015 = len(df_accidents_vehicles_bcn2015)\n",
    "print(f\"Total 2015: {totAccidents2015}\")\n",
    "\n",
    "totAccidents2016 = len(df_accidents_vehicles_bcn2016)\n",
    "print(f\"Total 2016: {totAccidents2016}\")\n",
    "\n",
    "totAccidents2017 = len(df_accidents_vehicles_bcn2017)\n",
    "print(f\"Total 2017: {totAccidents2017}\")\n",
    "\n",
    "totAccidents2018 = len(df_accidents_vehicles_bcn2018)\n",
    "print(f\"Total 2018: {totAccidents2018}\")\n",
    "\n",
    "totAccidents2019 = len(df_accidents_vehicles_bcn2019)\n",
    "print(f\"Total 2019: {totAccidents2019}\")\n",
    "\n",
    "totAccidents2020 = len(df_accidents_vehicles_bcn2020)\n",
    "print(f\"Total 2020: {totAccidents2020}\")"
   ]
  },
  {
   "cell_type": "code",
   "execution_count": null,
   "metadata": {},
   "outputs": [],
   "source": [
    "## Evolution number of accidents YoY"
   ]
  },
  {
   "cell_type": "code",
   "execution_count": null,
   "metadata": {},
   "outputs": [],
   "source": [
    "year = ['2010','2011','2012','2013','2014','2015','2016', '2017', '2018', '2019', '2020']\n",
    "totAccidents = [totAccidents2010, totAccidents2011, totAccidents2012, totAccidents2013, totAccidents2014, totAccidents2015, \n",
    "                totAccidents2016, totAccidents2017, totAccidents2018, totAccidents2019, totAccidents2020]\n",
    "\n",
    "plt.plot(year, totAccidents, color='blue', marker='o', linestyle='solid')\n",
    "\n",
    "plt.title(\"Evolution number of accidents YoY\")\n",
    "\n",
    "plt.xlabel(\"Year\")\n",
    "plt.ylabel(\"Nº Accidents\")\n",
    "\n",
    "plt.show()"
   ]
  },
  {
   "cell_type": "code",
   "execution_count": null,
   "metadata": {},
   "outputs": [],
   "source": [
    "## Evolution number of accidents YoY isolated without 2020"
   ]
  },
  {
   "cell_type": "code",
   "execution_count": null,
   "metadata": {},
   "outputs": [],
   "source": [
    "year = ['2010','2011','2012','2013','2014','2015','2016', '2017', '2018', '2019']\n",
    "totAccidents = [totAccidents2010, totAccidents2011, totAccidents2012, totAccidents2013, totAccidents2014, totAccidents2015, \n",
    "                totAccidents2016, totAccidents2017, totAccidents2018, totAccidents2019]\n",
    "\n",
    "plt.plot(year, totAccidents, color='blue', marker='o', linestyle='solid')\n",
    "\n",
    "plt.title(\"Evolution number of accidents YoY\")\n",
    "\n",
    "plt.xlabel(\"Year\")\n",
    "plt.ylabel(\"Nº Accidents\")\n",
    "\n",
    "plt.show()"
   ]
  },
  {
   "cell_type": "code",
   "execution_count": null,
   "metadata": {},
   "outputs": [],
   "source": [
    "## Heat map accidents location in 2020"
   ]
  },
  {
   "cell_type": "code",
   "execution_count": null,
   "metadata": {},
   "outputs": [],
   "source": [
    "coordinates = [41.390205, 2.154007]\n",
    "\n",
    "map_acc = folium.Map(location=coordinates,\n",
    "                    zoom_start = 13)\n",
    "\n",
    "df_cor = df_accidents_vehicles_bcn2020[['Latitud','Longitud']]\n",
    "cor = [[row['Latitud'],row['Longitud']] for index,row in df_cor.iterrows()]\n",
    "\n",
    "HeatMap(cor, min_opacity=0.5, radius=14).add_to(map_acc)\n",
    "map_acc"
   ]
  },
  {
   "cell_type": "code",
   "execution_count": null,
   "metadata": {},
   "outputs": [],
   "source": [
    "## Analysis by vehicle color (2020)"
   ]
  },
  {
   "cell_type": "code",
   "execution_count": null,
   "metadata": {},
   "outputs": [],
   "source": [
    "counts = dict()\n",
    "for color in df_accidents_vehicles_bcn2020['Descripcio_color']:\n",
    "    if color in counts:\n",
    "        counts[color] += 1\n",
    "    else:\n",
    "        counts[color] = 1        \n",
    "print(counts)"
   ]
  },
  {
   "cell_type": "code",
   "execution_count": null,
   "metadata": {},
   "outputs": [],
   "source": [
    "data_colors = counts\n",
    "df_data_colors = pd.DataFrame.from_dict(data_colors, orient='index')\n",
    "df_data_colors.columns = ['Number']\n",
    "df_data_colors = df_data_colors.rename(index={'Desconegut': 'Unknown', 'Negre': 'Black', 'Gris': 'Gray',\n",
    "                                    'Verd': 'Green', 'Vermell': 'Red', 'Negre/Groc': 'Black/Yellow', \n",
    "                                    'Blanc': 'White', 'Altres': 'Others', 'Blau': 'Blue', 'granate': 'Ruby', \n",
    "                                    'Groc': 'Yellow', 'Platejat': 'Silver', 'Taronja': 'Orange', \n",
    "                                    'Daurat': 'Golden', 'Marró': 'Brown', 'Beige': 'Beige'})\n",
    "\n",
    "display(df_data_colors)"
   ]
  },
  {
   "cell_type": "code",
   "execution_count": null,
   "metadata": {},
   "outputs": [],
   "source": [
    "sorted_df = df_data_colors.sort_values(by=['Number'], ascending=False)\n",
    "display(sorted_df)"
   ]
  },
  {
   "cell_type": "code",
   "execution_count": null,
   "metadata": {},
   "outputs": [],
   "source": [
    "fig, ax = plt.subplots(figsize=(8,6))\n",
    "sns.barplot(x=sorted_df.index, y=sorted_df['Number'], ax=ax, data=sorted_df,  palette='PuBu')\n",
    "ax.set_title(\"Nº Accidents\", fontdict={'fontsize':14})\n",
    "ax.set_xlabel('Color description', fontdict={'fontsize':14})\n",
    "ax.set_ylabel('')\n",
    "ax.tick_params(labelsize=10, rotation=70)\n",
    "ax.spines['bottom'].set_linewidth(2.5)\n",
    "\n",
    "for axis in ['top', 'right', 'left']:\n",
    "    ax.spines[axis].set_color(None)\n",
    "\n",
    "ax.tick_params(axis='y', labelleft=False, left=None)\n",
    "fig.tight_layout();"
   ]
  },
  {
   "cell_type": "code",
   "execution_count": null,
   "metadata": {},
   "outputs": [],
   "source": [
    "df_data_colors['Share %'] = 0\n",
    "for el in df_data_colors:\n",
    "    share = (df_data_colors['Number'] / totAccidents2020) * 100\n",
    "    df_data_colors['Share %'] = round(share, 3)\n",
    "display(df_data_colors)"
   ]
  },
  {
   "cell_type": "code",
   "execution_count": null,
   "metadata": {},
   "outputs": [],
   "source": [
    "sorted_df2 = df_data_colors.sort_values(by=['Share %'], ascending=False)\n",
    "display(sorted_df2)"
   ]
  },
  {
   "cell_type": "code",
   "execution_count": null,
   "metadata": {},
   "outputs": [],
   "source": [
    "## Analysis by vehicle brand (2020)"
   ]
  },
  {
   "cell_type": "code",
   "execution_count": null,
   "metadata": {},
   "outputs": [],
   "source": [
    "counts = dict()\n",
    "for brand in df_accidents_vehicles_bcn2020['Descripcio_marca']:\n",
    "    if brand in counts:\n",
    "        counts[brand] += 1\n",
    "    else:\n",
    "        counts[brand] = 1        \n",
    "print(counts)"
   ]
  },
  {
   "cell_type": "code",
   "execution_count": null,
   "metadata": {},
   "outputs": [],
   "source": [
    "data_brand = counts\n",
    "df_data_brand = pd.DataFrame.from_dict(data_brand, orient='index')\n",
    "df_data_brand.columns = ['Number']\n",
    "display(df_data_brand)"
   ]
  },
  {
   "cell_type": "code",
   "execution_count": null,
   "metadata": {},
   "outputs": [],
   "source": [
    "sorted_df = df_data_brand.sort_values(by=['Number'], ascending=False)\n",
    "display(sorted_df)"
   ]
  },
  {
   "cell_type": "code",
   "execution_count": null,
   "metadata": {},
   "outputs": [],
   "source": [
    "df_data_brand['Share %'] = 0\n",
    "for el in df_data_brand:\n",
    "    share = (df_data_brand['Number'] / totAccidents2020) * 100\n",
    "    df_data_brand['Share %'] = round(share, 3)\n",
    "display(df_data_brand)"
   ]
  },
  {
   "cell_type": "code",
   "execution_count": null,
   "metadata": {},
   "outputs": [],
   "source": [
    "sorted_df2 = df_data_brand.sort_values(by=['Share %'], ascending=False)\n",
    "display(sorted_df2)"
   ]
  },
  {
   "cell_type": "code",
   "execution_count": null,
   "metadata": {},
   "outputs": [],
   "source": [
    "## Analysis by vehicle type (2020)"
   ]
  },
  {
   "cell_type": "code",
   "execution_count": null,
   "metadata": {},
   "outputs": [],
   "source": [
    "counts = dict()\n",
    "for tipo in df_accidents_vehicles_bcn2020['Descripcio_tipus_vehicle']:\n",
    "    if tipo in counts:\n",
    "        counts[tipo] += 1\n",
    "    else:\n",
    "        counts[tipo] = 1        \n",
    "print(counts)"
   ]
  },
  {
   "cell_type": "code",
   "execution_count": null,
   "metadata": {},
   "outputs": [],
   "source": [
    "data_tipo = counts\n",
    "df_data_tipo = pd.DataFrame.from_dict(data_tipo, orient='index')\n",
    "df_data_tipo.columns = ['Number']\n",
    "display(df_data_tipo)"
   ]
  },
  {
   "cell_type": "code",
   "execution_count": null,
   "metadata": {},
   "outputs": [],
   "source": [
    "sorted_df = df_data_tipo.sort_values(by=['Number'], ascending=False)\n",
    "display(sorted_df)"
   ]
  },
  {
   "cell_type": "code",
   "execution_count": null,
   "metadata": {},
   "outputs": [],
   "source": [
    "df_data_tipo['Share %'] = 0\n",
    "for el in df_data_tipo:\n",
    "    share = (df_data_tipo['Number'] / totAccidents2020) * 100\n",
    "    df_data_tipo['Share %'] = round(share, 3)\n",
    "display(df_data_tipo)"
   ]
  },
  {
   "cell_type": "code",
   "execution_count": null,
   "metadata": {},
   "outputs": [],
   "source": [
    "sorted_df2 = df_data_tipo.sort_values(by=['Share %'], ascending=False)\n",
    "display(sorted_df2)"
   ]
  },
  {
   "cell_type": "code",
   "execution_count": null,
   "metadata": {},
   "outputs": [],
   "source": [
    "## Analysis by vehicle type (2019)"
   ]
  },
  {
   "cell_type": "code",
   "execution_count": null,
   "metadata": {},
   "outputs": [],
   "source": [
    "# In order to analyze which types of vehicles would be more likely to be involved in accidents,\n",
    "# the number of vehicles in circulation and the number of accidents by type of vehicle were considered.\n",
    "# As an approximation of the quantities of vehicles in circulation,\n",
    "# the quantity of each vehicle type registered in 2019 was considered."
   ]
  },
  {
   "cell_type": "code",
   "execution_count": null,
   "metadata": {},
   "outputs": [],
   "source": [
    "# Quantity of each type of vehicle"
   ]
  },
  {
   "cell_type": "code",
   "execution_count": null,
   "metadata": {},
   "outputs": [],
   "source": [
    "counts = dict()\n",
    "for tipo in df_accidents_vehicles_bcn2019['Descripcio_tipus_vehicle']:\n",
    "    if tipo in counts:\n",
    "        counts[tipo] += 1\n",
    "    else:\n",
    "        counts[tipo] = 1        \n",
    "# print(counts)"
   ]
  },
  {
   "cell_type": "code",
   "execution_count": null,
   "metadata": {},
   "outputs": [],
   "source": [
    "# Percentage of each type of vehicle involved in accidents"
   ]
  },
  {
   "cell_type": "code",
   "execution_count": null,
   "metadata": {},
   "outputs": [],
   "source": [
    "data_tipo = counts\n",
    "df_data_tipo = pd.DataFrame.from_dict(data_tipo, orient='index')\n",
    "df_data_tipo.columns = ['Number']\n",
    "\n",
    "df_data_tipo['Share %'] = 0\n",
    "for el in df_data_tipo:\n",
    "    share = (df_data_tipo['Number'] / totAccidents2019) * 100\n",
    "    df_data_tipo['Share %'] = round(share, 3)\n",
    "\n",
    "sorted_df2 = df_data_tipo.sort_values(by=['Share %'], ascending=False)\n",
    "display(sorted_df2)"
   ]
  },
  {
   "cell_type": "code",
   "execution_count": null,
   "metadata": {},
   "outputs": [],
   "source": [
    "# Vehicles registered in 2019\n",
    "# From: https://opendata-ajuntament.barcelona.cat/data/en/dataset/est-vehicles-nacionalitat-propietari"
   ]
  },
  {
   "cell_type": "code",
   "execution_count": null,
   "metadata": {},
   "outputs": [],
   "source": [
    "df_registros_2019 = pd.read_csv('../input/vehicles-accidents-barcelona/2019-parc-vehicles-nacio-prop-barris-ppaltip.csv')\n",
    "# df_registros_2019.head()"
   ]
  },
  {
   "cell_type": "code",
   "execution_count": null,
   "metadata": {},
   "outputs": [],
   "source": [
    "df_reg = df_registros_2019.groupby('Tipus_Vehicles').sum()\n",
    "display(df_reg)"
   ]
  },
  {
   "cell_type": "code",
   "execution_count": null,
   "metadata": {},
   "outputs": [],
   "source": [
    "# Vehicles registered in 2019 isolated without the type \"others\""
   ]
  },
  {
   "cell_type": "code",
   "execution_count": null,
   "metadata": {},
   "outputs": [],
   "source": [
    "df_reg_reduced = df_reg.loc[['Turismes', 'Motos', 'Furgonetes', 'Ciclomotors', 'Camions'], :]"
   ]
  },
  {
   "cell_type": "code",
   "execution_count": null,
   "metadata": {},
   "outputs": [],
   "source": [
    "total_reg = df_reg_reduced['Nombre'].sum()\n",
    "print(total_reg)"
   ]
  },
  {
   "cell_type": "code",
   "execution_count": null,
   "metadata": {},
   "outputs": [],
   "source": [
    "# Percentage of each type of vehicle registered"
   ]
  },
  {
   "cell_type": "code",
   "execution_count": null,
   "metadata": {},
   "outputs": [],
   "source": [
    "df_reg_reduced['Share % Reg'] = 0\n",
    "for el in df_reg_reduced:\n",
    "    share = (df_reg_reduced['Nombre'] / total_reg) * 100\n",
    "    df_reg_reduced['Share % Reg'] = round(share, 3)\n",
    "    \n",
    "df_reg_reduced2 = df_reg_reduced.rename(index={'Turismes': 'Turisme', 'Camions': 'Camió', 'Motos': 'Motocicleta',\n",
    "                                               'Furgonetes': 'Furgoneta', 'Ciclomotors': 'Ciclomotor'}) \n",
    "\n",
    "display(df_reg_reduced2)"
   ]
  },
  {
   "cell_type": "code",
   "execution_count": null,
   "metadata": {},
   "outputs": [],
   "source": [
    "# As the types of vehicles involved in accidents are not all in the registered data,\n",
    "# it must be created a new dataframe, with just the common types for comparison."
   ]
  },
  {
   "cell_type": "code",
   "execution_count": null,
   "metadata": {},
   "outputs": [],
   "source": [
    "df2_reduced = sorted_df2.loc[['Turisme', 'Motocicleta', 'Furgoneta', 'Ciclomotor', 'Camió rígid <= 3,5 tones', \n",
    "                              'Camió rígid > 3,5 tones'], :]\n",
    "df2_reduced2 = df2_reduced.rename(index={'Camió rígid <= 3,5 tones': 'Camió', 'Camió rígid > 3,5 tones': 'Camió'})\n",
    "df2_reduced2 = df2_reduced2.groupby(level=0).sum()\n",
    "\n",
    "# display(df2_reduced2)"
   ]
  },
  {
   "cell_type": "code",
   "execution_count": null,
   "metadata": {},
   "outputs": [],
   "source": [
    "# Adjust % to new total\n",
    "total_ac = df2_reduced2['Number'].sum()\n",
    "print(total_ac)"
   ]
  },
  {
   "cell_type": "code",
   "execution_count": null,
   "metadata": {},
   "outputs": [],
   "source": [
    "df2_reduced2['Share %'] = 0\n",
    "for el in df2_reduced2:\n",
    "    share = (df2_reduced2['Number'] / total_ac) * 100\n",
    "    df2_reduced2['Share %'] = round(share, 3)\n",
    "\n",
    "display(df2_reduced2)"
   ]
  },
  {
   "cell_type": "code",
   "execution_count": null,
   "metadata": {},
   "outputs": [],
   "source": [
    "display(df_reg_reduced2)\n",
    "display(df2_reduced2)"
   ]
  },
  {
   "cell_type": "code",
   "execution_count": null,
   "metadata": {},
   "outputs": [],
   "source": [
    "df_ac_reg = pd.concat([df2_reduced2, df_reg_reduced2], axis=1)\n",
    "display(df_ac_reg)"
   ]
  },
  {
   "cell_type": "code",
   "execution_count": null,
   "metadata": {},
   "outputs": [],
   "source": [
    "df_ac_reg.drop(['Number', 'Any', 'Nombre'], axis=1, inplace=True)\n",
    "display(df_ac_reg)"
   ]
  },
  {
   "cell_type": "code",
   "execution_count": null,
   "metadata": {},
   "outputs": [],
   "source": [
    "# Percentage difference between vehicles involved in accidents and those registered for each type"
   ]
  },
  {
   "cell_type": "code",
   "execution_count": null,
   "metadata": {},
   "outputs": [],
   "source": [
    "df_ac_reg['Share dif'] = 0\n",
    "for el in df_ac_reg:\n",
    "    share_dif = df_ac_reg['Share %'] - df_ac_reg['Share % Reg']\n",
    "    df_ac_reg['Share dif'] = round(share_dif, 3)\n",
    "\n",
    "df_ac_reg = df_ac_reg.sort_values(by=['Share dif'], ascending=False)\n",
    "\n",
    "df_ac_reg = df_ac_reg.rename(index={'Furgoneta': 'Van', 'Camió': 'Truck', 'Turisme': 'Tourism'})\n",
    "    \n",
    "display(df_ac_reg)"
   ]
  },
  {
   "cell_type": "code",
   "execution_count": null,
   "metadata": {},
   "outputs": [],
   "source": [
    "fig, ax = plt.subplots(figsize=(8,6))\n",
    "sns.barplot(x=df_ac_reg.index, y=df_ac_reg['Share dif'], ax=ax, data=df_ac_reg,  palette='PuBu_r')\n",
    "ax.set_title(\"Difference between % of accidents and % of vehicles registered in 2019\", fontdict={'fontsize':14})\n",
    "ax.set_xlabel('Vehicle type', fontdict={'fontsize':14})\n",
    "ax.set_ylabel('% of accidents - % of registered', fontdict={'fontsize':14})\n",
    "ax.tick_params(labelsize=12, rotation=70)\n",
    "ax.spines['bottom'].set_linewidth(2.5)"
   ]
  },
  {
   "cell_type": "code",
   "execution_count": null,
   "metadata": {},
   "outputs": [],
   "source": [
    "## Analysis by weekday (2020)"
   ]
  },
  {
   "cell_type": "code",
   "execution_count": null,
   "metadata": {},
   "outputs": [],
   "source": [
    "counts = dict()\n",
    "for wday in df_accidents_vehicles_bcn2020['Descripcio_dia_setmana']:\n",
    "    if wday in counts:\n",
    "        counts[wday] += 1\n",
    "    else:\n",
    "        counts[wday] = 1        \n",
    "print(counts)"
   ]
  },
  {
   "cell_type": "code",
   "execution_count": null,
   "metadata": {},
   "outputs": [],
   "source": [
    "data_wday = counts\n",
    "df_data_wday = pd.DataFrame.from_dict(data_wday, orient='index')\n",
    "df_data_wday.columns = ['Number']\n",
    "df_data_wday = df_data_wday.rename(index={'Dijous': 'Thursday', 'Dimecres': 'Wednesday',\n",
    "                                              'Divendres': 'Friday', 'Dilluns': 'Monday',\n",
    "                                              'Dimarts': 'Tuesday', 'Dissabte': 'Saturday', 'Diumenge': 'Sunday'})\n",
    "\n",
    "\n",
    "display(df_data_wday)"
   ]
  },
  {
   "cell_type": "code",
   "execution_count": null,
   "metadata": {},
   "outputs": [],
   "source": [
    "sorted_df = df_data_wday.sort_values(by=['Number'], ascending=False)\n",
    "display(sorted_df)"
   ]
  },
  {
   "cell_type": "code",
   "execution_count": null,
   "metadata": {},
   "outputs": [],
   "source": [
    "df_data_wday['Share %'] = 0\n",
    "for el in df_data_wday:\n",
    "    share = (df_data_wday['Number'] / totAccidents2020) * 100\n",
    "    df_data_wday['Share %'] = round(share, 3)\n",
    "display(df_data_wday)"
   ]
  },
  {
   "cell_type": "code",
   "execution_count": null,
   "metadata": {},
   "outputs": [],
   "source": [
    "sorted_df2 = df_data_wday.sort_values(by=['Share %'], ascending=False)\n",
    "display(sorted_df2)"
   ]
  },
  {
   "cell_type": "code",
   "execution_count": null,
   "metadata": {},
   "outputs": [],
   "source": [
    "fig, ax = plt.subplots(figsize=(8,6))\n",
    "sns.barplot(x=sorted_df.index, y=sorted_df['Number'], ax=ax, data=sorted_df,  palette='PuBu')\n",
    "ax.set_title(\"Nº accidents\", fontdict={'fontsize':14})\n",
    "ax.set_xlabel('Day of the week', fontdict={'fontsize':14})\n",
    "ax.set_ylabel('')\n",
    "ax.tick_params(labelsize=10, rotation=70)\n",
    "ax.spines['bottom'].set_linewidth(2.5)\n",
    "\n",
    "for axis in ['top', 'right', 'left']:\n",
    "   ax.spines[axis].set_color(None)\n",
    "\n",
    "ax.tick_params(axis='y', labelleft=False, left=None)\n",
    "fig.tight_layout();"
   ]
  },
  {
   "cell_type": "code",
   "execution_count": null,
   "metadata": {},
   "outputs": [],
   "source": [
    "## Analysis by neighborhood (2020)"
   ]
  },
  {
   "cell_type": "code",
   "execution_count": null,
   "metadata": {},
   "outputs": [],
   "source": [
    "counts = dict()\n",
    "for hood in df_accidents_vehicles_bcn2020['Nom_barri']:\n",
    "    if hood in counts:\n",
    "        counts[hood] += 1\n",
    "    else:\n",
    "        counts[hood] = 1        \n",
    "print(counts)"
   ]
  },
  {
   "cell_type": "code",
   "execution_count": null,
   "metadata": {},
   "outputs": [],
   "source": [
    "data_hood = counts\n",
    "df_data_hood = pd.DataFrame.from_dict(data_hood, orient='index')\n",
    "df_data_hood.columns = ['Number']\n",
    "display(df_data_hood)"
   ]
  },
  {
   "cell_type": "code",
   "execution_count": null,
   "metadata": {},
   "outputs": [],
   "source": [
    "sorted_df = df_data_hood.sort_values(by=['Number'], ascending=False)\n",
    "display(sorted_df)"
   ]
  },
  {
   "cell_type": "code",
   "execution_count": null,
   "metadata": {},
   "outputs": [],
   "source": [
    "df_data_hood['Share %'] = 0\n",
    "for el in df_data_hood:\n",
    "    share = (df_data_hood['Number'] / totAccidents2020) * 100\n",
    "    df_data_hood['Share %'] = round(share, 3)\n",
    "display(df_data_hood)"
   ]
  },
  {
   "cell_type": "code",
   "execution_count": null,
   "metadata": {},
   "outputs": [],
   "source": [
    "sorted_df2 = df_data_hood.sort_values(by=['Share %'], ascending=False)\n",
    "display(sorted_df2)"
   ]
  },
  {
   "cell_type": "code",
   "execution_count": null,
   "metadata": {},
   "outputs": [],
   "source": [
    "# Analysis by driver's license time (2020)."
   ]
  },
  {
   "cell_type": "code",
   "execution_count": null,
   "metadata": {},
   "outputs": [],
   "source": [
    "t_cart_counts = dict()\n",
    "for t_cart in df_accidents_vehicles_bcn2020['Antiguitat_carnet']:\n",
    "    if t_cart in t_cart_counts:\n",
    "        t_cart_counts[t_cart] += 1\n",
    "    else:\n",
    "        t_cart_counts[t_cart] = 1"
   ]
  },
  {
   "cell_type": "code",
   "execution_count": null,
   "metadata": {},
   "outputs": [],
   "source": [
    "t_cart_counts.pop('Desconegut', None)\n",
    "t_cart_counts = {int(k):v for k, v in t_cart_counts.items()}"
   ]
  },
  {
   "cell_type": "code",
   "execution_count": null,
   "metadata": {},
   "outputs": [],
   "source": [
    "x,y = zip(*sorted(t_cart_counts.items()))\n",
    "plt.plot(x,y)\n",
    "plt.plot(x, y, color='blue', marker='o', linestyle='solid')\n",
    "\n",
    "plt.title(\"Accidents by driving license time\")\n",
    "\n",
    "plt.xlabel(\"License time\")\n",
    "plt.ylabel(\"Nº Accidents\")\n",
    "\n",
    "plt.show()"
   ]
  }
 ],
 "metadata": {
  "kernelspec": {
   "display_name": "Python 3 (ipykernel)",
   "language": "python",
   "name": "python3"
  },
  "language_info": {
   "codemirror_mode": {
    "name": "ipython",
    "version": 3
   },
   "file_extension": ".py",
   "mimetype": "text/x-python",
   "name": "python",
   "nbconvert_exporter": "python",
   "pygments_lexer": "ipython3",
   "version": "3.9.5"
  }
 },
 "nbformat": 4,
 "nbformat_minor": 4
}
